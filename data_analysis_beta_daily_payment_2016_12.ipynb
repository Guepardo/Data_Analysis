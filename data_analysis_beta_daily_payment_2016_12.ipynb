{
 "cells": [
  {
   "cell_type": "code",
   "execution_count": 21,
   "metadata": {},
   "outputs": [],
   "source": [
    "%matplotlib inline\n",
    "import matplotlib.pyplot as plt\n",
    "import seaborn as sns\n",
    "import pandas as pd\n",
    "from datetime import datetime"
   ]
  },
  {
   "cell_type": "markdown",
   "metadata": {},
   "source": [
    "# Análise nos dados de diárias 2015 dezembro\n",
    "Rotulando adequadamente o nome das colunas e os tipos de cada uma."
   ]
  },
  {
   "cell_type": "code",
   "execution_count": 22,
   "metadata": {},
   "outputs": [],
   "source": [
    "columns_name = ['cargo_servidor',\n",
    "                'data_partida', \n",
    "                'data_retorno', \n",
    "                'destino_viagem', \n",
    "                'nome_servidor', \n",
    "                'sigla_orgao',\n",
    "                'nomes', \n",
    "                'valor_total',\n",
    "                'motivo_viagem'\n",
    "               ]\n",
    "\n",
    "dtypes = {'cargo_servidor': 'str', \n",
    "          'data_partida': 'str', \n",
    "          'data_retorno': 'str', \n",
    "          'destino_viagem': 'str', \n",
    "          'nome_servidor': 'str',\n",
    "          'sigla_orgao': 'str',\n",
    "          'nomes': 'str', \n",
    "          'valor_total': 'float', \n",
    "          'motivo_viagem': 'str', \n",
    "         }\n",
    "\n",
    "data = pd.read_csv('data/Diarias_201512.csv', \n",
    "                   sep=';',\n",
    "                   names=columns_name,\n",
    "                   skiprows=1, \n",
    "                   dtype=dtypes\n",
    "                  )"
   ]
  },
  {
   "cell_type": "code",
   "execution_count": 23,
   "metadata": {},
   "outputs": [],
   "source": [
    "# Normalizanod datas: \n",
    "data['data_partida'] = data['data_partida'].apply(lambda x : x[0:10])\n",
    "data['data_retorno'] = data['data_retorno'].apply(lambda x : x[0:10])"
   ]
  },
  {
   "cell_type": "code",
   "execution_count": 24,
   "metadata": {},
   "outputs": [
    {
     "data": {
      "text/html": [
       "<div>\n",
       "<style>\n",
       "    .dataframe thead tr:only-child th {\n",
       "        text-align: right;\n",
       "    }\n",
       "\n",
       "    .dataframe thead th {\n",
       "        text-align: left;\n",
       "    }\n",
       "\n",
       "    .dataframe tbody tr th {\n",
       "        vertical-align: top;\n",
       "    }\n",
       "</style>\n",
       "<table border=\"1\" class=\"dataframe\">\n",
       "  <thead>\n",
       "    <tr style=\"text-align: right;\">\n",
       "      <th></th>\n",
       "      <th>cargo_servidor</th>\n",
       "      <th>data_partida</th>\n",
       "      <th>data_retorno</th>\n",
       "      <th>destino_viagem</th>\n",
       "      <th>nome_servidor</th>\n",
       "      <th>sigla_orgao</th>\n",
       "      <th>nomes</th>\n",
       "      <th>valor_total</th>\n",
       "      <th>motivo_viagem</th>\n",
       "    </tr>\n",
       "  </thead>\n",
       "  <tbody>\n",
       "    <tr>\n",
       "      <th>0</th>\n",
       "      <td>(SERVIDOR MILITAR)</td>\n",
       "      <td>2015-12-18</td>\n",
       "      <td>2015-12-21</td>\n",
       "      <td>RIO VERDE</td>\n",
       "      <td>AURELIA MARQUES DE SOUZA</td>\n",
       "      <td>DETRAN</td>\n",
       "      <td>201512</td>\n",
       "      <td>560.0</td>\n",
       "      <td>NaN</td>\n",
       "    </tr>\n",
       "    <tr>\n",
       "      <th>1</th>\n",
       "      <td>(SERVIDOR MOTORISTA)</td>\n",
       "      <td>2015-12-30</td>\n",
       "      <td>2015-12-31</td>\n",
       "      <td>PIRENOPOLIS</td>\n",
       "      <td>GUSTAVO DE PAULA PEREIRA PERILO</td>\n",
       "      <td>DETRAN</td>\n",
       "      <td>201512</td>\n",
       "      <td>240.0</td>\n",
       "      <td>NaN</td>\n",
       "    </tr>\n",
       "  </tbody>\n",
       "</table>\n",
       "</div>"
      ],
      "text/plain": [
       "         cargo_servidor data_partida data_retorno destino_viagem  \\\n",
       "0    (SERVIDOR MILITAR)   2015-12-18   2015-12-21      RIO VERDE   \n",
       "1  (SERVIDOR MOTORISTA)   2015-12-30   2015-12-31    PIRENOPOLIS   \n",
       "\n",
       "                     nome_servidor sigla_orgao   nomes  valor_total  \\\n",
       "0         AURELIA MARQUES DE SOUZA      DETRAN  201512        560.0   \n",
       "1  GUSTAVO DE PAULA PEREIRA PERILO      DETRAN  201512        240.0   \n",
       "\n",
       "  motivo_viagem  \n",
       "0           NaN  \n",
       "1           NaN  "
      ]
     },
     "execution_count": 24,
     "metadata": {},
     "output_type": "execute_result"
    }
   ],
   "source": [
    "data.head(2)"
   ]
  },
  {
   "cell_type": "code",
   "execution_count": 25,
   "metadata": {},
   "outputs": [
    {
     "data": {
      "text/plain": [
       "1119"
      ]
     },
     "execution_count": 25,
     "metadata": {},
     "output_type": "execute_result"
    }
   ],
   "source": [
    "data['destino_viagem'].drop_duplicates().count()"
   ]
  },
  {
   "cell_type": "markdown",
   "metadata": {},
   "source": [
    "Os servidores viajaram para 1119 destinos diferentes nesse período."
   ]
  },
  {
   "cell_type": "code",
   "execution_count": 26,
   "metadata": {},
   "outputs": [
    {
     "data": {
      "text/plain": [
       "2                                        (SERVIDOR CIVIL)\n",
       "32                                              MOTORISTA\n",
       "83                                    ASSESSOR ESPECIAL B\n",
       "124     ASSISTENTE DE TRANSPORTES E OBRAS - 90%- PCR- ...\n",
       "170                                    (SERVIDOR MILITAR)\n",
       "215                                           CONSELHEIRO\n",
       "226                                 ASSESSOR ESPECIAL ¿A¿\n",
       "266                                                   NaN\n",
       "352                                  (SERVIDOR MOTORISTA)\n",
       "507                                           ASSESSOR II\n",
       "515                            ASSISTENTE DE GABINETE ¿E¿\n",
       "584                                            ASSISTENTE\n",
       "646     ASSISTENTE DE TRANSPORTES E OBRAS - PCR-EST- 1...\n",
       "753                                  ASSISTENTE DE GESTÃO\n",
       "842                                       PERITO CRIMINAL\n",
       "1036                    TEC DE NIVEL SUPERIOR MANDADO SEG\n",
       "1244                                   MEDICO-VETERINARIO\n",
       "1403                                           ENFERMEIRO\n",
       "1523                                       AUX GESTAO ADM\n",
       "1581                AUDITOR FISCAL DA RECEITA ESTADUAL II\n",
       "1771                                   ANALISTA AMBIENTAL\n",
       "2236                                            BIOMEDICO\n",
       "2383                            ASSISTENTE DE  GABINETE E\n",
       "2620                                               FISCAL\n",
       "2622                                   SUPERVISOR A, CDA8\n",
       "2627                      GESTOR TECNOLOGIA DA INFORMACAO\n",
       "2798                                      REEDITOR SOCIAL\n",
       "2808    ASSISTENTE DE GESTÃO ADMINISTRATIVA-90% PCR ES...\n",
       "2922                                 AUXILIAR DE AUTÓPSIA\n",
       "2951    AUXILIAR DE TRANSPORTE E OBRAS - QT - CLT - 18276\n",
       "3086                                        AUX. AUTOPSIA\n",
       "3345                                 AGENTE FAZENDARIO II\n",
       "3351                                       GESTOR PUBLICO\n",
       "3650                                ASSESSOR ESPECIAL ¿F¿\n",
       "3965                      TECNICO FAZENDARIO ESTADUAL III\n",
       "4325                            ASSISTENTE ADMINISTRATIVO\n",
       "4678                     ASSESSOR A DE DIRETORIA METROBUS\n",
       "4772                              AGENTE DE SAUDE PUBLICA\n",
       "4976                 AUDITOR FISCAL DA RECEITA ESTADUAL I\n",
       "4998                                 MOTORISTA SENIOR V K\n",
       "5058                               CONSELHEIRO PRESIDENTE\n",
       "5087                        TECNICO FAZENDARIO ESTADUAL I\n",
       "5277                                    MOTORISTA OFICIAL\n",
       "Name: cargo_servidor, dtype: object"
      ]
     },
     "execution_count": 26,
     "metadata": {},
     "output_type": "execute_result"
    }
   ],
   "source": [
    "daily_caldas = data[ data['destino_viagem'].str.contains('CALDAS')]\n",
    "daily_caldas['cargo_servidor'].drop_duplicates()"
   ]
  },
  {
   "cell_type": "markdown",
   "metadata": {},
   "source": [
    "Filtrando a cidade turística Caldas Novas e isolando os cargos que mais viajaram para lá."
   ]
  },
  {
   "cell_type": "code",
   "execution_count": 27,
   "metadata": {},
   "outputs": [
    {
     "data": {
      "text/plain": [
       "1253566.5899999999"
      ]
     },
     "execution_count": 27,
     "metadata": {},
     "output_type": "execute_result"
    }
   ],
   "source": [
    "data['valor_total'].sum()"
   ]
  },
  {
   "cell_type": "markdown",
   "metadata": {},
   "source": [
    " Gastos com diárias em 2015, dezembro foi de **R$ 1.253.566** milhão"
   ]
  },
  {
   "cell_type": "code",
   "execution_count": 28,
   "metadata": {},
   "outputs": [
    {
     "data": {
      "text/html": [
       "<div>\n",
       "<style>\n",
       "    .dataframe thead tr:only-child th {\n",
       "        text-align: right;\n",
       "    }\n",
       "\n",
       "    .dataframe thead th {\n",
       "        text-align: left;\n",
       "    }\n",
       "\n",
       "    .dataframe tbody tr th {\n",
       "        vertical-align: top;\n",
       "    }\n",
       "</style>\n",
       "<table border=\"1\" class=\"dataframe\">\n",
       "  <thead>\n",
       "    <tr style=\"text-align: right;\">\n",
       "      <th></th>\n",
       "      <th>cargo_servidor</th>\n",
       "      <th>data_partida</th>\n",
       "      <th>data_retorno</th>\n",
       "      <th>destino_viagem</th>\n",
       "      <th>nome_servidor</th>\n",
       "      <th>sigla_orgao</th>\n",
       "      <th>nomes</th>\n",
       "      <th>valor_total</th>\n",
       "      <th>motivo_viagem</th>\n",
       "      <th>estadia_dias</th>\n",
       "    </tr>\n",
       "  </thead>\n",
       "  <tbody>\n",
       "    <tr>\n",
       "      <th>0</th>\n",
       "      <td>(SERVIDOR MILITAR)</td>\n",
       "      <td>2015-12-18</td>\n",
       "      <td>2015-12-21</td>\n",
       "      <td>RIO VERDE</td>\n",
       "      <td>AURELIA MARQUES DE SOUZA</td>\n",
       "      <td>DETRAN</td>\n",
       "      <td>201512</td>\n",
       "      <td>560.0</td>\n",
       "      <td>NaN</td>\n",
       "      <td>3.0</td>\n",
       "    </tr>\n",
       "  </tbody>\n",
       "</table>\n",
       "</div>"
      ],
      "text/plain": [
       "       cargo_servidor data_partida data_retorno destino_viagem  \\\n",
       "0  (SERVIDOR MILITAR)   2015-12-18   2015-12-21      RIO VERDE   \n",
       "\n",
       "              nome_servidor sigla_orgao   nomes  valor_total motivo_viagem  \\\n",
       "0  AURELIA MARQUES DE SOUZA      DETRAN  201512        560.0           NaN   \n",
       "\n",
       "   estadia_dias  \n",
       "0           3.0  "
      ]
     },
     "execution_count": 28,
     "metadata": {},
     "output_type": "execute_result"
    }
   ],
   "source": [
    "def get_gap_days(row): \n",
    "    start_date = datetime.strptime(row['data_partida'], \"%Y-%m-%d\")\n",
    "    end_date = datetime.strptime(row['data_retorno'], \"%Y-%m-%d\")\n",
    "    \n",
    "    data_diff = end_date - start_date\n",
    "    \n",
    "    return data_diff.total_seconds() / (60 * 60 * 24)\n",
    "\n",
    "data['estadia_dias'] = data.apply(lambda row: get_gap_days(row), axis=1)\n",
    "data.head(1)"
   ]
  },
  {
   "cell_type": "markdown",
   "metadata": {},
   "source": [
    "Recuperando os dias de deslocamento do servidor"
   ]
  },
  {
   "cell_type": "code",
   "execution_count": 29,
   "metadata": {},
   "outputs": [],
   "source": [
    "def calc_value_per_day(row): \n",
    "    return row['valor_total'] if row['estadia_dias'] <= 0 else float(row['valor_total']) / int(row['estadia_dias'])\n",
    "\n",
    "data['valor_diario'] = data.apply(lambda row: calc_value_per_day(row), axis=1)"
   ]
  },
  {
   "cell_type": "code",
   "execution_count": 30,
   "metadata": {},
   "outputs": [
    {
     "data": {
      "image/png": "[encoded data removed]",
      "text/plain": [
       "<matplotlib.figure.Figure at 0x7f74199a4b50>"
      ]
     },
     "metadata": {},
     "output_type": "display_data"
    }
   ],
   "source": [
    "sns.distplot(data['valor_diario'])\n",
    "None"
   ]
  },
  {
   "cell_type": "code",
   "execution_count": 31,
   "metadata": {},
   "outputs": [
    {
     "name": "stdout",
     "output_type": "stream",
     "text": [
      "Desvio padrão R$ 246.117404991 Média dos valores R$ 342.770483117\n"
     ]
    }
   ],
   "source": [
    "std_total_value = data['valor_diario'].describe()['std'] * 3\n",
    "mean_total_value = data['valor_diario'].describe()['mean'] * 3\n",
    "\n",
    "print(\"Desvio padrão R$ {std} Média dos valores R$ {mean}\".format(std=std_total_value, mean=mean_total_value))"
   ]
  },
  {
   "cell_type": "code",
   "execution_count": 32,
   "metadata": {},
   "outputs": [],
   "source": [
    "records_exceeds_std = data[ data['valor_diario'] > std_total_value]\n",
    "records_exceeds_mean = data[data['valor_diario'] > mean_total_value]"
   ]
  },
  {
   "cell_type": "code",
   "execution_count": 33,
   "metadata": {},
   "outputs": [
    {
     "data": {
      "image/png": "[encoded data removed]",
      "text/plain": [
       "<matplotlib.figure.Figure at 0x7f741751f310>"
      ]
     },
     "metadata": {},
     "output_type": "display_data"
    }
   ],
   "source": [
    "sns.distplot(records_exceeds_mean['valor_diario'])\n",
    "None"
   ]
  },
  {
   "cell_type": "code",
   "execution_count": 34,
   "metadata": {},
   "outputs": [
    {
     "data": {
      "image/png": "[encoded data removed]",
      "text/plain": [
       "<matplotlib.figure.Figure at 0x7f74174b4a90>"
      ]
     },
     "metadata": {},
     "output_type": "display_data"
    }
   ],
   "source": [
    "sns.distplot(records_exceeds_std['valor_diario'])\n",
    "None"
   ]
  },
  {
   "cell_type": "code",
   "execution_count": 35,
   "metadata": {},
   "outputs": [
    {
     "name": "stdout",
     "output_type": "stream",
     "text": [
      "Valores que excedem o desvio padrão 211 e 5201 não. \n",
      "Valores que excedem a média 94 e 5318 não.\n"
     ]
    }
   ],
   "source": [
    "std_complement = len(data) - len(records_exceeds_std)\n",
    "mean_complement = len(data) - len(records_exceeds_mean)\n",
    "print(\"Valores que excedem o desvio padrão {std} e {std_com} não. \\nValores que excedem a média {mean} e {mean_com} não.\".\\\n",
    "      format(std=len(records_exceeds_std),\\\n",
    "             mean=len(records_exceeds_mean),\\\n",
    "             std_com=std_complement,\\\n",
    "             mean_com=mean_complement))"
   ]
  },
  {
   "cell_type": "markdown",
   "metadata": {},
   "source": [
    "Teoricamente os valores que excedem a média e o desvio padrão podem representar uma anomalia. Deste modo cabe analisar esses casos com mais detalhe."
   ]
  },
  {
   "cell_type": "code",
   "execution_count": 36,
   "metadata": {},
   "outputs": [
    {
     "data": {
      "text/plain": [
       "cargo_servidor          ASSESSOR DA DIRETORIA TECNICA - ASSESSOR IV\n",
       "data_partida                                             2015-12-17\n",
       "data_retorno                                             2015-12-17\n",
       "destino_viagem                                       SÃO PAULO - GO\n",
       "nome_servidor                               LEANDRO KAZUAKI TSURUDA\n",
       "sigla_orgao                                                  AGEHAB\n",
       "nomes                                                        201512\n",
       "valor_total                                                    1280\n",
       "motivo_viagem     CURSO DE INSTALADOR A INTEGRADOR SOLAR FOTOVOL...\n",
       "estadia_dias                                                      0\n",
       "valor_diario                                                   1280\n",
       "Name: 3618, dtype: object"
      ]
     },
     "execution_count": 36,
     "metadata": {},
     "output_type": "execute_result"
    }
   ],
   "source": [
    "records_exceeds_std_sorted = records_exceeds_std.sort_values(by='valor_diario', ascending=False)\n",
    "records_exceeds_std_sorted.iloc[0]"
   ]
  },
  {
   "cell_type": "markdown",
   "metadata": {},
   "source": [
    "O registro acima representa o maior gasto registrado no período 2015 mês 12. O servidor permaneceu 0 dias, ou seja, algumas horas, e exigiu R$ 1280 na diária. "
   ]
  },
  {
   "cell_type": "code",
   "execution_count": 37,
   "metadata": {},
   "outputs": [
    {
     "data": {
      "text/plain": [
       "cargo_servidor    SECRETÁRIO DA SEGURANÇA PÚBLIC\n",
       "data_partida                          2015-12-02\n",
       "data_retorno                          2015-12-03\n",
       "destino_viagem                    BRASILIA - DF.\n",
       "nome_servidor          JOAQUIM CLAUDIO FIGUEIRED\n",
       "sigla_orgao                                  SSP\n",
       "nomes                                     201512\n",
       "valor_total                                  600\n",
       "motivo_viagem                      NÃO INFORMADO\n",
       "estadia_dias                                   1\n",
       "valor_diario                                 600\n",
       "Name: 1083, dtype: object"
      ]
     },
     "execution_count": 37,
     "metadata": {},
     "output_type": "execute_result"
    }
   ],
   "source": [
    "records_exceeds_std_sorted.iloc[2]"
   ]
  },
  {
   "cell_type": "code",
   "execution_count": 38,
   "metadata": {},
   "outputs": [],
   "source": [
    "# limpando NaNs \n",
    "records_exceeds_std_sorted = records_exceeds_std_sorted.fillna('NÃO INFORMADO')\n",
    "\n",
    "suspects_records_without_motive = \\\n",
    "records_exceeds_std_sorted[records_exceeds_std_sorted['motivo_viagem'].str.contains('NÃO')]"
   ]
  },
  {
   "cell_type": "markdown",
   "metadata": {},
   "source": [
    "\n",
    "Relação de diárias sem 'motivo da viagem' descriminado no registro. "
   ]
  },
  {
   "cell_type": "code",
   "execution_count": 39,
   "metadata": {},
   "outputs": [
    {
     "data": {
      "text/plain": [
       "cargo_servidor            CB PM- SEGURANÇA\n",
       "data_partida                    2015-12-09\n",
       "data_retorno                    2015-12-10\n",
       "destino_viagem             CASSILÂNDIA-MS.\n",
       "nome_servidor     ROBERTO DE FREITAS SOUZA\n",
       "sigla_orgao                            SSP\n",
       "nomes                               201512\n",
       "valor_total                            600\n",
       "motivo_viagem                NÃO INFORMADO\n",
       "estadia_dias                             1\n",
       "valor_diario                           600\n",
       "Name: 928, dtype: object"
      ]
     },
     "execution_count": 39,
     "metadata": {},
     "output_type": "execute_result"
    }
   ],
   "source": [
    "suspects_records_without_motive.iloc[0]"
   ]
  },
  {
   "cell_type": "code",
   "execution_count": 40,
   "metadata": {},
   "outputs": [
    {
     "name": "stdout",
     "output_type": "stream",
     "text": [
      "(45120.0, 65)\n"
     ]
    }
   ],
   "source": [
    "sum_suspects = suspects_records_without_motive['valor_total'].sum()\n",
    "len_suspects = len(suspects_records_without_motive)\n",
    "\n",
    "print(sum_suspects, len_suspects)"
   ]
  },
  {
   "cell_type": "markdown",
   "metadata": {},
   "source": [
    "#### Abordagem não conservadora (um std)\n",
    "\n",
    "Ou seja, há ao menos 491 registros que não seguem o desvio padrão dos pedidos de diárias e não informam o motivo do deslocamento. Tais registros contabilizam R$ **214.980** mil reais."
   ]
  },
  {
   "cell_type": "markdown",
   "metadata": {
    "collapsed": true
   },
   "source": [
    "#### Abordagem conservadora ( 3 * std )\n",
    "\n",
    "Ou seja, há ao menos 65 registros que não seguem o desvio padrão dos pedidos de diárias e não informam o motivo do deslocamento. Tais registros contabilizam R$ **45.120** mil reais."
   ]
  },
  {
   "cell_type": "code",
   "execution_count": null,
   "metadata": {
    "collapsed": true
   },
   "outputs": [],
   "source": []
  }
 ],
 "metadata": {
  "kernelspec": {
   "display_name": "Python 2",
   "language": "python",
   "name": "python2"
  },
  "language_info": {
   "codemirror_mode": {
    "name": "ipython",
    "version": 2
   },
   "file_extension": ".py",
   "mimetype": "text/x-python",
   "name": "python",
   "nbconvert_exporter": "python",
   "pygments_lexer": "ipython2",
   "version": "2.7.12"
  }
 },
 "nbformat": 4,
 "nbformat_minor": 2
}
